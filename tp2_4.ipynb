{
 "cells": [
  {
   "cell_type": "code",
   "execution_count": 108,
   "metadata": {},
   "outputs": [],
   "source": [
    "#Ejercicio 4\n",
    "import simpy\n",
    "import random\n",
    "\n",
    "#Unidad de tiempo: milisegundo\n",
    "#0.7s son  700ms\n",
    "#0.8s son  800ms\n",
    "#1.0s son 1000ms\n",
    "#4.0s son 4000ms\n",
    "\n",
    "#Configuracion\n",
    "#Cantidad de solicitudes a procesar\n",
    "cantidad_solicitudes = 100000\n",
    "#Cantidad de bases de datos a utilizar 1 o 2\n",
    "cantidad_bases = 2\n",
    "\n",
    "#Modo DEBUG, imprime las listas de tiempos\n",
    "modo_debug = False"
   ]
  },
  {
   "cell_type": "code",
   "execution_count": 109,
   "metadata": {},
   "outputs": [],
   "source": [
    "def atenderSolicitud(env, baseDatos, mu, id_solicitud): \n",
    "    \n",
    "    t_atencion = random.expovariate(mu)\n",
    "\n",
    "    tiempoInicio = env.now\n",
    "    db = baseDatos.request()\n",
    "    yield db\n",
    "    tiempoEspera = env.now - tiempoInicio\n",
    "    tiemposEsperas.append(tuple((id_solicitud, tiempoEspera)))\n",
    "    yield env.timeout(t_atencion)\n",
    "    baseDatos.release(db)\n",
    "    tiempoTotal = env.now - tiempoInicio\n",
    "    tiemposTotales.append(tuple((id_solicitud, tiempoTotal)))"
   ]
  },
  {
   "cell_type": "code",
   "execution_count": 110,
   "metadata": {},
   "outputs": [],
   "source": [
    "class generadorSolicitudes:\n",
    "    \n",
    "    def __init__(self, env, cantidad, bases):\n",
    "        \n",
    "        self.env = env\n",
    "        self.action = env.process(self.generarSolicitudes(env, cantidad, bases))\n",
    "\n",
    "    def generarSolicitudes(self, env, cantidad, bases):\n",
    "\n",
    "        baseDatos1 = simpy.Resource(env, capacity=1)\n",
    "        baseDatos2 = simpy.Resource(env, capacity=1)\n",
    "        \n",
    "        id_solicitud = 0\n",
    "        for i in range(cantidad):\n",
    "            \n",
    "            if (bases == 1):\n",
    "\n",
    "                mu1 = 800\n",
    "                solicitud = env.process(atenderSolicitud(env, baseDatos1, mu1, id_solicitud))\n",
    "\n",
    "            else:\n",
    "                \n",
    "                mu1 =  700\n",
    "                mu2 = 1000\n",
    "\n",
    "                if (random.uniform(0, 1) > 0.6):\n",
    "                    \n",
    "                    solicitud = env.process(atenderSolicitud(env, baseDatos2, mu2, id_solicitud))\n",
    "            \n",
    "                else:\n",
    "                    \n",
    "                    solicitud = env.process(atenderSolicitud(env, baseDatos1, mu1, id_solicitud))\n",
    "\n",
    "            tiempoEntreSolicitudes = random.expovariate(4000)\n",
    "            yield env.timeout(tiempoEntreSolicitudes)\n",
    "            \n",
    "            id_solicitud = id_solicitud + 1"
   ]
  },
  {
   "cell_type": "code",
   "execution_count": 111,
   "metadata": {},
   "outputs": [
    {
     "name": "stdout",
     "output_type": "stream",
     "text": [
      "Cantidad de solicitudes procesadas: 100000\n",
      "Cantidad de solicitudes sin espera: 5\n",
      "Fracción de solicitudes sin espera: 0.000050\n",
      "Media de espera (ms): 21.478499\n",
      "Media de espera y procesamiento (ms): 21.479761\n"
     ]
    }
   ],
   "source": [
    "#Listas para guardar los tiempos\n",
    "tiemposEsperas = []\n",
    "tiemposTotales = []\n",
    "\n",
    "#Inicializacion del entorno\n",
    "env = simpy.Environment()\n",
    "\n",
    "#Generacion de solicitudes y ejecucion de la simulacion\n",
    "solicitudes = generadorSolicitudes(env, cantidad_solicitudes, cantidad_bases)\n",
    "env.run()\n",
    "\n",
    "#Calculo de elementos con tiempo de espera 0\n",
    "cantSinEspera = 0\n",
    "for t in tiemposEsperas:\n",
    "    if t[1] == 0:\n",
    "        cantSinEspera = cantSinEspera + 1\n",
    "        \n",
    "#Impresion de resultados\n",
    "print(\"Cantidad de solicitudes procesadas: %d\" % len(tiemposEsperas))\n",
    "print(\"Cantidad de solicitudes sin espera: %d\" % cantSinEspera)\n",
    "print(\"Fracción de solicitudes sin espera: %f\" %(cantSinEspera/len(tiemposEsperas)))\n",
    "print(\"Media de espera (ms): %f\" %(sum([t[1] for t in tiemposEsperas])/len(tiemposEsperas)))\n",
    "print(\"Media de espera y procesamiento (ms): %f\" %(sum([t[1] for t in tiemposTotales])/len(tiemposTotales)))\n",
    "\n",
    "#Impresion de listas de tiempos\n",
    "if (modo_debug == True):\n",
    "    \n",
    "    print(tiemposEsperas)\n",
    "    print(tiemposTotales)"
   ]
  },
  {
   "cell_type": "code",
   "execution_count": null,
   "metadata": {},
   "outputs": [],
   "source": [
    "#Resultados alternativa 1 base\n",
    "#Cantidad de solicitudes procesadas: 100000\n",
    "#Cantidad de solicitudes sin espera: 1\n",
    "#Fracción de solicitudes sin espera: 0.000010\n",
    "#Media de espera (ms): 49.842979\n",
    "#Media de espera y procesamiento (ms): 49.844222\n",
    "\n",
    "#Resultados alternativa 2 bases\n",
    "#Cantidad de solicitudes procesadas: 100000\n",
    "#Cantidad de solicitudes sin espera: 5\n",
    "#Fracción de solicitudes sin espera: 0.000050\n",
    "#Media de espera (ms): 21.478499\n",
    "#Media de espera y procesamiento (ms): 21.479761\n"
   ]
  }
 ],
 "metadata": {
  "kernelspec": {
   "display_name": "Python 3",
   "language": "python",
   "name": "python3"
  },
  "language_info": {
   "codemirror_mode": {
    "name": "ipython",
    "version": 3
   },
   "file_extension": ".py",
   "mimetype": "text/x-python",
   "name": "python",
   "nbconvert_exporter": "python",
   "pygments_lexer": "ipython3",
   "version": "3.7.3"
  }
 },
 "nbformat": 4,
 "nbformat_minor": 4
}
