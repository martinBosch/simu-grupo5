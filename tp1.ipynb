{
 "cells": [
  {
   "cell_type": "code",
   "execution_count": 1,
   "metadata": {},
   "outputs": [],
   "source": [
    "import numpy as np\n",
    "import matplotlib.pyplot as plt"
   ]
  },
  {
   "cell_type": "markdown",
   "metadata": {},
   "source": [
    "# Ejercicio 1"
   ]
  },
  {
   "cell_type": "code",
   "execution_count": 11,
   "metadata": {},
   "outputs": [],
   "source": [
    "class GCL:\n",
    "    \"\"\"Generador Lineal Congruente\n",
    "\n",
    "    atributos:\n",
    "     m: el modulo\n",
    "     a: el multiplicador\n",
    "     c: el incremento\n",
    "     xn: ultimo valor generado\n",
    "    \"\"\"\n",
    "\n",
    "    def __init__(self, m, a, c, x0):\n",
    "        self.m = m\n",
    "        self.a = a\n",
    "        self.c = c\n",
    "        self.xn = x0\n",
    "\n",
    "    def generar_numero_aleatorio(self):\n",
    "        self.xn = (self.a * self.xn + self.c) % self.m\n",
    "        return self.xn"
   ]
  },
  {
   "cell_type": "code",
   "execution_count": 12,
   "metadata": {},
   "outputs": [],
   "source": [
    "m = 2**32\n",
    "a = 1013904223\n",
    "c = 1664525\n",
    "\n",
    "padrones = [93272, 92028, 79979, 96749]\n",
    "x0 = int(sum(padrones)/len(padrones))"
   ]
  },
  {
   "cell_type": "markdown",
   "metadata": {},
   "source": [
    "## 1.a"
   ]
  },
  {
   "cell_type": "code",
   "execution_count": 13,
   "metadata": {},
   "outputs": [
    {
     "name": "stdout",
     "output_type": "stream",
     "text": [
      "[3454896546, 8404779, 606119938, 277718219, 4216340066, 875795051, 1362250946, 1409026059, 1862062882, 3706783147]\n"
     ]
    }
   ],
   "source": [
    "def generar_secuencia(secuencia_largo):\n",
    "    gcl = GCL(m, a, c, x0)\n",
    "    secuencia = []\n",
    "    for i in range(secuencia_largo):\n",
    "        secuencia.append(gcl.generar_numero_aleatorio())\n",
    "\n",
    "    return secuencia\n",
    "\n",
    "tam_muestra = 10\n",
    "primeros_diez = generar_secuencia(tam_muestra)\n",
    "print(primeros_diez)"
   ]
  },
  {
   "cell_type": "markdown",
   "metadata": {},
   "source": [
    "## 1.b"
   ]
  },
  {
   "cell_type": "code",
   "execution_count": 14,
   "metadata": {},
   "outputs": [],
   "source": [
    "class GCL_01(GCL):\n",
    "    \"\"\"Generador Lineal Congruente con distribucion [0, 1]\n",
    "    \"\"\"\n",
    "\n",
    "    def generar_numero_aleatorio(self):\n",
    "        return super().generar_numero_aleatorio()/m"
   ]
  },
  {
   "cell_type": "markdown",
   "metadata": {},
   "source": [
    "## 1.c"
   ]
  },
  {
   "cell_type": "code",
   "execution_count": 15,
   "metadata": {},
   "outputs": [],
   "source": [
    "def generar_secuencia(secuencia_largo):\n",
    "    gcl = GCL_01(m, a, c, x0)\n",
    "    secuencia = []\n",
    "    for i in range(secuencia_largo):\n",
    "        secuencia.append(gcl.generar_numero_aleatorio())\n",
    "\n",
    "    return secuencia\n",
    "\n",
    "tam_muestra = 100000\n",
    "muestra = generar_secuencia(tam_muestra)"
   ]
  },
  {
   "cell_type": "code",
   "execution_count": 16,
   "metadata": {},
   "outputs": [
    {
     "data": {
      "image/png": "[encoded data removed]",
      "text/plain": [
       "<Figure size 432x288 with 1 Axes>"
      ]
     },
     "metadata": {
      "needs_background": "light"
     },
     "output_type": "display_data"
    }
   ],
   "source": [
    "plt.hist(muestra, 'sturges')\n",
    "plt.show()"
   ]
  },
  {
   "cell_type": "markdown",
   "metadata": {},
   "source": [
    "# Ejercicio 2"
   ]
  },
  {
   "cell_type": "markdown",
   "metadata": {},
   "source": [
    "## 2.a"
   ]
  },
  {
   "cell_type": "code",
   "execution_count": 2,
   "metadata": {},
   "outputs": [],
   "source": [
    "from math import exp"
   ]
  },
  {
   "cell_type": "code",
   "execution_count": 3,
   "metadata": {},
   "outputs": [],
   "source": [
    "def f(t):\n",
    "    lambda_ = 1/15\n",
    "    if t >= 0 and t < 10:\n",
    "        return 1/25\n",
    "    elif t >= 10:\n",
    "        return 3/5 * lambda_ * exp(-1 * lambda_ * (t - 10))"
   ]
  },
  {
   "cell_type": "code",
   "execution_count": 4,
   "metadata": {},
   "outputs": [
    {
     "data": {
      "image/png": "[encoded data removed]",
      "text/plain": [
       "<Figure size 432x288 with 1 Axes>"
      ]
     },
     "metadata": {
      "needs_background": "light"
     },
     "output_type": "display_data"
    }
   ],
   "source": [
    "x = np.arange(0.0, 100.0, 1)\n",
    "y = np.array(list(map(f, x)))\n",
    "\n",
    "plt.plot(x, y)\n",
    "plt.show()"
   ]
  },
  {
   "cell_type": "markdown",
   "metadata": {},
   "source": [
    "## 2.b"
   ]
  },
  {
   "cell_type": "code",
   "execution_count": 5,
   "metadata": {},
   "outputs": [],
   "source": [
    "def F(t):\n",
    "    lambda_ = 1/15\n",
    "    if t >= 0 and t < 10:\n",
    "        return t/25\n",
    "    elif t >= 10:\n",
    "        return (10/25) + (3/5) - (3/5) * exp(-1 * lambda_ * (t - 10))"
   ]
  },
  {
   "cell_type": "code",
   "execution_count": 6,
   "metadata": {},
   "outputs": [
    {
     "data": {
      "image/png": "[encoded data removed]",
      "text/plain": [
       "<Figure size 432x288 with 1 Axes>"
      ]
     },
     "metadata": {
      "needs_background": "light"
     },
     "output_type": "display_data"
    }
   ],
   "source": [
    "x = np.arange(0.0, 100.0, 1)\n",
    "y = np.array(list(map(F, x)))\n",
    "\n",
    "plt.plot(x, y)\n",
    "plt.show()"
   ]
  },
  {
   "cell_type": "code",
   "execution_count": 7,
   "metadata": {},
   "outputs": [],
   "source": [
    "from math import log"
   ]
  },
  {
   "cell_type": "code",
   "execution_count": 8,
   "metadata": {},
   "outputs": [],
   "source": [
    "def F_inversa(t):\n",
    "    lambda_ = 1/15\n",
    "    if t >= 0 and t < 10/25:\n",
    "        return 25*t\n",
    "    elif t >= 10/25:\n",
    "        return (-1/lambda_) * log( (5/3) - (5/3) * t) + 10"
   ]
  },
  {
   "cell_type": "code",
   "execution_count": 9,
   "metadata": {},
   "outputs": [
    {
     "data": {
      "image/png": "[encoded data removed]",
      "text/plain": [
       "<Figure size 432x288 with 1 Axes>"
      ]
     },
     "metadata": {
      "needs_background": "light"
     },
     "output_type": "display_data"
    }
   ],
   "source": [
    "x = np.arange(0.0, 1.0, 0.05)\n",
    "y = np.array(list(map(F_inversa, x)))\n",
    "\n",
    "plt.plot(x, y)\n",
    "plt.show()"
   ]
  },
  {
   "cell_type": "markdown",
   "metadata": {},
   "source": [
    "## 2.c y 2.d"
   ]
  },
  {
   "cell_type": "code",
   "execution_count": 17,
   "metadata": {},
   "outputs": [],
   "source": [
    "tam_muestra = 100000\n",
    "# muestra de numeros aleatorios con distrib uniforme [0, 1]\n",
    "muestra = generar_secuencia(tam_muestra)"
   ]
  },
  {
   "cell_type": "code",
   "execution_count": 18,
   "metadata": {},
   "outputs": [
    {
     "data": {
      "image/png": "[encoded data removed]",
      "text/plain": [
       "<Figure size 432x288 with 1 Axes>"
      ]
     },
     "metadata": {
      "needs_background": "light"
     },
     "output_type": "display_data"
    }
   ],
   "source": [
    "y = np.array(list(map(F_inversa, muestra)))\n",
    "\n",
    "plt.hist(y, 100)\n",
    "plt.show()"
   ]
  },
  {
   "cell_type": "markdown",
   "metadata": {},
   "source": [
    "# Ejercicio 3"
   ]
  },
  {
   "cell_type": "markdown",
   "metadata": {},
   "source": [
    "Para el metodo de aceptacion y rechazo se debe usar una fY() conocida que tenga el mismo dominio que la fX() que se quiere generar.\n",
    "\n",
    " En este caso fX() es una normal de media 15 y desvio 3, como nosotros sabemos aproximar la normal estandar con una exponencial de media 1 podemos usar los valores de esa muestra sabiendo que:\n",
    " \n",
    " Z = $\\frac{X - \\mu}{\\sigma}$\n",
    " \n",
    " siendo que X sigue una distribucion N($\\mu, \\sigma$) y Z una N(0, 1). Como nosotros queremos X, la despejamos:\n",
    " \n",
    " X = $ Z * \\sigma + \\mu $\n",
    " \n",
    " "
   ]
  },
  {
   "cell_type": "markdown",
   "metadata": {},
   "source": [
    "## 3.a"
   ]
  },
  {
   "cell_type": "code",
   "execution_count": null,
   "metadata": {},
   "outputs": [],
   "source": [
    "# con 0 < t < infinito (por eso el 2 en el numerador)\n",
    "def normal_estandar(t):\n",
    "    return 2/(np.sqrt(2 * np.pi)) * np.exp( -1*(t)**2 / 2 )"
   ]
  },
  {
   "cell_type": "code",
   "execution_count": null,
   "metadata": {},
   "outputs": [],
   "source": [
    "x = np.arange(0, 10, 0.1)\n",
    "y = np.array(list(map(normal_estandar, x)))\n",
    "\n",
    "plt.plot(x, y)\n",
    "plt.show()"
   ]
  },
  {
   "cell_type": "code",
   "execution_count": null,
   "metadata": {},
   "outputs": [],
   "source": [
    "def exponencial(t, media=1):\n",
    "    return media * exp(-1*media*t)"
   ]
  },
  {
   "cell_type": "code",
   "execution_count": null,
   "metadata": {},
   "outputs": [],
   "source": [
    "x = np.arange(0, 10, 0.1)\n",
    "y = np.array(list(map(exponencial, x)))\n",
    "\n",
    "plt.plot(x, y)\n",
    "plt.show()"
   ]
  },
  {
   "cell_type": "code",
   "execution_count": null,
   "metadata": {},
   "outputs": [],
   "source": [
    "# comparo la distribucion normal estandar y la exponencial de media 1\n",
    "x1 = np.arange(0, 10, 0.1)\n",
    "y1 = np.array(list(map(normal_estandar, x1)))\n",
    "\n",
    "y2 = np.array(list(map(exponencial, x1)))\n",
    "\n",
    "plt.plot(x1, y1, label='fx')\n",
    "plt.plot(x1, y2, label='fy')\n",
    "plt.legend()\n",
    "plt.show()"
   ]
  },
  {
   "cell_type": "code",
   "execution_count": null,
   "metadata": {},
   "outputs": [],
   "source": [
    "from random import random\n",
    "\n",
    "media, desvio_estandar = 15, 3\n",
    "tam_muestra = 100000\n",
    "\n",
    "c = np.sqrt(2 * np.e / np.pi)\n",
    "\n",
    "muestra = []\n",
    "for i in range(tam_muestra):\n",
    "    # genero muestras de la variable exponencial de media 1\n",
    "    u1 = np.random.exponential(1, 1)[0]\n",
    "    u2 = random()\n",
    "\n",
    "    if( u2 < normal_estandar(u1)/(c*exponencial(u1, media=1)) ):\n",
    "        # u3 para decidir si el valor es negativo o positivo\n",
    "        u3 = random()\n",
    "        if u3 <= 0.5:\n",
    "            z = u1 \n",
    "        else:\n",
    "            z = -u1\n",
    "        # para obtener un valor para la normal con media=15 y desvio=3, a la variable de la normal estandar\n",
    "        # la multiplico por el devio y le sumo la media\n",
    "        x = desvio_estandar * z + media\n",
    "        muestra.append(x)\n"
   ]
  },
  {
   "cell_type": "markdown",
   "metadata": {},
   "source": [
    "## 3.b"
   ]
  },
  {
   "cell_type": "code",
   "execution_count": null,
   "metadata": {},
   "outputs": [],
   "source": [
    "plt.hist(muestra, 100)\n",
    "plt.show()"
   ]
  },
  {
   "cell_type": "markdown",
   "metadata": {},
   "source": [
    "## 3.c"
   ]
  },
  {
   "cell_type": "code",
   "execution_count": null,
   "metadata": {},
   "outputs": [],
   "source": [
    "from scipy.stats import norm\n",
    "\n",
    "x = np.arange(0, 30, 0.1)\n",
    "\n",
    "plt.plot(x, norm.pdf(x, media, desvio_estandar), color='r')\n",
    "plt.hist(muestra, 100, density=True)\n",
    "plt.show()"
   ]
  },
  {
   "cell_type": "markdown",
   "metadata": {},
   "source": [
    "## 3.d"
   ]
  },
  {
   "cell_type": "code",
   "execution_count": null,
   "metadata": {},
   "outputs": [],
   "source": [
    "# media de la muestra\n",
    "media_muestra = np.mean(muestra)\n",
    "print('Media de la muestra:', media_muestra)\n",
    "print('Diferencia hasta la media teorica:', media - media_muestra)"
   ]
  },
  {
   "cell_type": "code",
   "execution_count": null,
   "metadata": {},
   "outputs": [],
   "source": [
    "# desvio estandar de la muestra\n",
    "muestra_desvio_standar = np.std(muestra)\n",
    "print('Desvio estandar de la muestra:', muestra_desvio_standar)\n",
    "print('Diferencia hasta el devio estandar teorico:', desvio_estandar - muestra_desvio_standar)"
   ]
  },
  {
   "cell_type": "markdown",
   "metadata": {},
   "source": [
    "## 3.e"
   ]
  },
  {
   "cell_type": "code",
   "execution_count": null,
   "metadata": {},
   "outputs": [],
   "source": [
    "factor_rendimiento = len(muestra) / tam_muestra * 100\n",
    "print('Factor de rendimiento:', factor_rendimiento, '%')"
   ]
  },
  {
   "cell_type": "markdown",
   "metadata": {},
   "source": [
    "# Ejercicio 4"
   ]
  },
  {
   "cell_type": "code",
   "execution_count": null,
   "metadata": {},
   "outputs": [],
   "source": [
    "tam_muestra = 1000\n",
    "\n",
    "u1 = np.random.uniform(0, 1, tam_muestra)\n",
    "u2 = np.random.uniform(0, 1, tam_muestra)\n",
    "\n",
    "u1 = u1 * 10 +5\n",
    "u2 = u2 * 10 +5\n",
    "\n",
    "plt.scatter(u1, u2)\n",
    "plt.show()"
   ]
  },
  {
   "cell_type": "markdown",
   "metadata": {},
   "source": [
    "# Ejercicio 5"
   ]
  },
  {
   "cell_type": "code",
   "execution_count": null,
   "metadata": {},
   "outputs": [],
   "source": [
    "tam_muestra = 100000\n",
    "\n",
    "u1 = np.random.uniform(0, 1, tam_muestra)\n",
    "u2 = np.random.uniform(0, 1, tam_muestra)\n",
    "\n",
    "z1 = np.sqrt(-2*np.log(u1))*np.cos(2*np.pi*u2)\n",
    "z2 = np.sqrt(-2*np.log(u1))*np.sin(2*np.pi*u2)"
   ]
  },
  {
   "cell_type": "code",
   "execution_count": null,
   "metadata": {},
   "outputs": [],
   "source": [
    "plt.hist(z1, 100)\n",
    "plt.title('Z1')\n",
    "plt.show()\n",
    "\n",
    "plt.hist(z2, 100)\n",
    "plt.title('Z2')\n",
    "plt.show()"
   ]
  },
  {
   "cell_type": "code",
   "execution_count": null,
   "metadata": {},
   "outputs": [],
   "source": [
    "# comparo las normales estandar generadas con la generado por scipy\n",
    "x = np.arange(-5, 5, 0.1)\n",
    "\n",
    "plt.plot(x, norm.pdf(x, 0, 1), color='r')\n",
    "plt.hist(z1, 100, density=True)\n",
    "plt.title('Z1')\n",
    "plt.show()\n",
    "\n",
    "plt.plot(x, norm.pdf(x, 0, 1), color='r')\n",
    "plt.hist(z2, 100, density=True)\n",
    "plt.title('Z2')\n",
    "plt.show()"
   ]
  },
  {
   "cell_type": "code",
   "execution_count": null,
   "metadata": {},
   "outputs": [],
   "source": [
    "# Calculo la media y varianza de la distribución obtenida y la comparo contra los valores teóricos.\n",
    "media_teorica = 0\n",
    "desvio_estandar_teorico = 1\n",
    "\n",
    "# Para z1\n",
    "media_muestra = np.mean(z1)\n",
    "print('Media de la muestra z1:', media_muestra)\n",
    "print('Diferencia hasta la media teorica:', media_teorica - media_muestra)\n",
    "print('')\n",
    "\n",
    "muestra_desvio_estandar = np.std(z1)\n",
    "print('Desvio estandar de la muestra z1:', muestra_desvio_estandar)\n",
    "print('Diferencia hasta el devio estandar teorico:', desvio_estandar_teorico - muestra_desvio_estandar)\n",
    "print('')\n",
    "\n",
    "# Para z2\n",
    "media_muestra = np.mean(z2)\n",
    "print('Media de la muestra z2:', media_muestra)\n",
    "print('Diferencia hasta la media teorica:', media_teorica - media_muestra)\n",
    "print('')\n",
    "\n",
    "muestra_desvio_estandar = np.std(z2)\n",
    "print('Desvio estandar de la muestra z2:', muestra_desvio_estandar)\n",
    "print('Diferencia hasta el devio estandar teorico:', desvio_estandar_teorico - muestra_desvio_estandar)\n",
    "print('')"
   ]
  },
  {
   "cell_type": "markdown",
   "metadata": {},
   "source": [
    "# Ejercicio 6"
   ]
  },
  {
   "cell_type": "markdown",
   "metadata": {},
   "source": [
    "## 6.a"
   ]
  },
  {
   "cell_type": "code",
   "execution_count": null,
   "metadata": {},
   "outputs": [],
   "source": [
    "m = 2**32\n",
    "a = 1013904223\n",
    "c = 1664525\n",
    "\n",
    "padrones = [93272, 92028, 79979, 96749]\n",
    "x0 = int(sum(padrones)/len(padrones))\n",
    "\n",
    "\n",
    "tam_muestra = 100000\n",
    "muestra = []\n",
    "\n",
    "gcl = GCL_01(m, a, c, x0)\n",
    "for i in range(tam_muestra):\n",
    "    u = gcl.generar_numero_aleatorio()\n",
    "    if u >= 0 and u <= 0.1:\n",
    "        muestra.append('A')\n",
    "    elif u > 0.1 and u <= 0.6:\n",
    "        muestra.append('B')\n",
    "    elif u > 0.6 and u <= 0.9:\n",
    "        muestra.append('C')\n",
    "    elif u > 0.9 and u <= 1:\n",
    "        muestra.append('D')"
   ]
  },
  {
   "cell_type": "markdown",
   "metadata": {},
   "source": [
    "## 6.b"
   ]
  },
  {
   "cell_type": "code",
   "execution_count": null,
   "metadata": {},
   "outputs": [],
   "source": [
    "plt.hist(muestra)\n",
    "plt.show()"
   ]
  },
  {
   "cell_type": "markdown",
   "metadata": {},
   "source": [
    "# Ejercicio 7"
   ]
  },
  {
   "cell_type": "code",
   "execution_count": null,
   "metadata": {},
   "outputs": [],
   "source": [
    "m = 2**32\n",
    "a = 1013904223\n",
    "c = 1664525\n",
    "\n",
    "padrones = [93272, 92028, 79979, 96749]\n",
    "x0 = int(sum(padrones)/len(padrones))"
   ]
  },
  {
   "cell_type": "code",
   "execution_count": null,
   "metadata": {},
   "outputs": [],
   "source": [
    "def generar_secuencia(secuencia_largo):\n",
    "    gcl = GCL(m, a, c, x0)\n",
    "    secuencia = []\n",
    "    for i in range(secuencia_largo):\n",
    "        secuencia.append(gcl.generar_numero_aleatorio())\n",
    "\n",
    "    return secuencia\n",
    "\n",
    "tam_muestra = 1000\n",
    "muestra = generar_secuencia(tam_muestra)"
   ]
  },
  {
   "cell_type": "code",
   "execution_count": null,
   "metadata": {},
   "outputs": [],
   "source": [
    "pares = []\n",
    "for i in range(len(muestra)-1):\n",
    "    par = (muestra[i], muestra[i+1])\n",
    "    pares.append(par)\n",
    "\n",
    "x = np.array([par[0] for par in pares])\n",
    "y = np.array([par[1] for par in pares])\n",
    "\n",
    "plt.scatter(x, y)\n",
    "plt.title('Test espectral en dos dimensiones')\n",
    "plt.show()"
   ]
  },
  {
   "cell_type": "code",
   "execution_count": null,
   "metadata": {},
   "outputs": [],
   "source": [
    "from mpl_toolkits.mplot3d import Axes3D\n",
    "\n",
    "secuencia_de_tres_consecutivos = []\n",
    "for i in range(len(muestra)-2):\n",
    "    sec = (muestra[i], muestra[i+1], muestra[i+2])\n",
    "    secuencia_de_tres_consecutivos.append(sec)\n",
    "\n",
    "x = np.array([sec[0] for sec in secuencia_de_tres_consecutivos])\n",
    "y = np.array([sec[1] for sec in secuencia_de_tres_consecutivos])\n",
    "z = np.array([sec[2] for sec in secuencia_de_tres_consecutivos])\n",
    "\n",
    "fig = plt.figure()\n",
    "ax = Axes3D(fig)\n",
    "ax.scatter(x, y, z)\n",
    "plt.title('Test espectral en tres dimensiones')\n",
    "plt.show()"
   ]
  }
 ],
 "metadata": {
  "kernelspec": {
   "display_name": "Python 3",
   "language": "python",
   "name": "python3"
  },
  "language_info": {
   "codemirror_mode": {
    "name": "ipython",
    "version": 3
   },
   "file_extension": ".py",
   "mimetype": "text/x-python",
   "name": "python",
   "nbconvert_exporter": "python",
   "pygments_lexer": "ipython3",
   "version": "3.6.8"
  }
 },
 "nbformat": 4,
 "nbformat_minor": 2
}
