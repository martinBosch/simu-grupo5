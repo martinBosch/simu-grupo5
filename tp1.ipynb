{
 "cells": [
  {
   "cell_type": "code",
   "execution_count": 6,
   "metadata": {},
   "outputs": [],
   "source": [
    "import numpy as np\n",
    "import matplotlib.pyplot as plt"
   ]
  },
  {
   "cell_type": "markdown",
   "metadata": {},
   "source": [
    "# Ejercicio 1"
   ]
  },
  {
   "cell_type": "code",
   "execution_count": 1,
   "metadata": {},
   "outputs": [],
   "source": [
    "class GCL:\n",
    "    \"\"\"Generador Lineal Congruente\n",
    "\n",
    "    atributos:\n",
    "     m: el modulo\n",
    "     a: el multiplicador\n",
    "     c: el incremento\n",
    "     xn: ultimo valor generado\n",
    "    \"\"\"\n",
    "\n",
    "    def __init__(self, m, a, c, x0):\n",
    "        self.m = m\n",
    "        self.a = a\n",
    "        self.c = c\n",
    "        self.xn = x0\n",
    "\n",
    "    def generar_numero_aleatorio(self):\n",
    "        self.xn = (self.a * self.xn + self.c) % self.m\n",
    "        return self.xn"
   ]
  },
  {
   "cell_type": "code",
   "execution_count": 2,
   "metadata": {},
   "outputs": [],
   "source": [
    "m = 2**32\n",
    "a = 1013904223\n",
    "c = 1664525\n",
    "\n",
    "padrones = [93272, 92028, 79979, 96749]\n",
    "x0 = int(sum(padrones)/len(padrones))"
   ]
  },
  {
   "cell_type": "markdown",
   "metadata": {},
   "source": [
    "## 1.a"
   ]
  },
  {
   "cell_type": "code",
   "execution_count": 3,
   "metadata": {},
   "outputs": [
    {
     "name": "stdout",
     "output_type": "stream",
     "text": [
      "[3454896546, 8404779, 606119938, 277718219, 4216340066, 875795051, 1362250946, 1409026059, 1862062882, 3706783147]\n"
     ]
    }
   ],
   "source": [
    "def generar_secuencia(secuencia_largo):\n",
    "    gcl = GCL(m, a, c, x0)\n",
    "    secuencia = []\n",
    "    for i in range(secuencia_largo):\n",
    "        secuencia.append(gcl.generar_numero_aleatorio())\n",
    "\n",
    "    return secuencia\n",
    "\n",
    "tam_muestra = 10\n",
    "primeros_diez = generar_secuencia(tam_muestra)\n",
    "print(primeros_diez)"
   ]
  },
  {
   "cell_type": "markdown",
   "metadata": {},
   "source": [
    "## 1.b"
   ]
  },
  {
   "cell_type": "code",
   "execution_count": 4,
   "metadata": {},
   "outputs": [],
   "source": [
    "class GCL_01(GCL):\n",
    "    \"\"\"Generador Lineal Congruente con distribucion [0, 1]\n",
    "    \"\"\"\n",
    "\n",
    "    def generar_numero_aleatorio(self):\n",
    "        return super().generar_numero_aleatorio()/m"
   ]
  },
  {
   "cell_type": "markdown",
   "metadata": {},
   "source": [
    "## 1.c"
   ]
  },
  {
   "cell_type": "code",
   "execution_count": 7,
   "metadata": {},
   "outputs": [],
   "source": [
    "def generar_secuencia(secuencia_largo):\n",
    "    gcl = GCL_01(m, a, c, x0)\n",
    "    secuencia = []\n",
    "    for i in range(secuencia_largo):\n",
    "        secuencia.append(gcl.generar_numero_aleatorio())\n",
    "\n",
    "    return secuencia\n",
    "\n",
    "tam_muestra = 100000\n",
    "muestra = generar_secuencia(tam_muestra)"
   ]
  },
  {
   "cell_type": "code",
   "execution_count": 8,
   "metadata": {},
   "outputs": [
    {
     "data": {
      "image/png": "[encoded data removed]",
      "text/plain": [
       "<Figure size 432x288 with 1 Axes>"
      ]
     },
     "metadata": {
      "needs_background": "light"
     },
     "output_type": "display_data"
    }
   ],
   "source": [
    "plt.hist(muestra, 'sturges')\n",
    "plt.show()"
   ]
  },
  {
   "cell_type": "code",
   "execution_count": null,
   "metadata": {},
   "outputs": [],
   "source": []
  }
 ],
 "metadata": {
  "kernelspec": {
   "display_name": "Python 3",
   "language": "python",
   "name": "python3"
  },
  "language_info": {
   "codemirror_mode": {
    "name": "ipython",
    "version": 3
   },
   "file_extension": ".py",
   "mimetype": "text/x-python",
   "name": "python",
   "nbconvert_exporter": "python",
   "pygments_lexer": "ipython3",
   "version": "3.6.8"
  }
 },
 "nbformat": 4,
 "nbformat_minor": 2
}
