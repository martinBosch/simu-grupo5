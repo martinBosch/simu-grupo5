{
 "cells": [
  {
   "cell_type": "markdown",
   "metadata": {},
   "source": [
    "# Ejercicio 1"
   ]
  },
  {
   "cell_type": "markdown",
   "metadata": {},
   "source": [
    "## 1.a"
   ]
  },
  {
   "cell_type": "code",
   "execution_count": 1,
   "metadata": {},
   "outputs": [],
   "source": [
    "tiempos_entre_arribos_file = open('datosTP2EJ1.txt', 'r')"
   ]
  },
  {
   "cell_type": "code",
   "execution_count": 2,
   "metadata": {},
   "outputs": [],
   "source": [
    "tiempos_entre_arribos = tiempos_entre_arribos_file.readlines()\n",
    "\n",
    "tiempos_entre_arribos = [float(t.rstrip()) for t in tiempos_entre_arribos]\n",
    "\n",
    "tam_muestra = len(tiempos_entre_arribos)\n",
    "# tiempos_entre_arribos"
   ]
  },
  {
   "cell_type": "code",
   "execution_count": 3,
   "metadata": {},
   "outputs": [],
   "source": [
    "import matplotlib.pyplot as plt\n",
    "import numpy as np\n",
    "from scipy import stats as sp"
   ]
  },
  {
   "cell_type": "code",
   "execution_count": 4,
   "metadata": {},
   "outputs": [
    {
     "data": {
      "image/png": "[encoded data removed]",
      "text/plain": [
       "<Figure size 432x288 with 1 Axes>"
      ]
     },
     "metadata": {
      "needs_background": "light"
     },
     "output_type": "display_data"
    }
   ],
   "source": [
    "# grafico un histograma para ver que distribucion siguen los valores de la muestra\n",
    "plt.hist(tiempos_entre_arribos, 100)\n",
    "plt.show()"
   ]
  },
  {
   "cell_type": "code",
   "execution_count": 5,
   "metadata": {},
   "outputs": [
    {
     "data": {
      "text/plain": [
       "180.62767"
      ]
     },
     "execution_count": 5,
     "metadata": {},
     "output_type": "execute_result"
    }
   ],
   "source": [
    "# calculo la media de la muestra para saber cual de las dos propuestas se asemeja mas a la\n",
    "# distribucion de la muestra\n",
    "np.mean(tiempos_entre_arribos)"
   ]
  },
  {
   "cell_type": "code",
   "execution_count": 6,
   "metadata": {},
   "outputs": [
    {
     "data": {
      "image/png": "[encoded data removed]",
      "text/plain": [
       "<Figure size 432x288 with 1 Axes>"
      ]
     },
     "metadata": {
      "needs_background": "light"
     },
     "output_type": "display_data"
    },
    {
     "data": {
      "text/plain": [
       "186.93686232078457"
      ]
     },
     "execution_count": 6,
     "metadata": {},
     "output_type": "execute_result"
    }
   ],
   "source": [
    "# otra forma de decidir cual de las dos propuestas se asemeja mas a la distribucion de la muestra es\n",
    "# aplicar un test de Kolmogorov-Smirnov (ya que la distribucion es continua) a la muestra\n",
    "\n",
    "\n",
    "# Verifico que parametros pasar a la funcion expon de scipy para obtener la distribución deseada\n",
    "\n",
    "# Propuesta 1: exponencial con media 180\n",
    "muestra_propuesta1 = sp.expon.rvs(0, 180, size=tam_muestra)\n",
    "\n",
    "# chequeo que la districion sea la esperada\n",
    "plt.hist(muestra_propuesta1, 100)\n",
    "plt.show()\n",
    "\n",
    "np.mean(muestra_propuesta1)"
   ]
  },
  {
   "cell_type": "code",
   "execution_count": 7,
   "metadata": {},
   "outputs": [
    {
     "name": "stdout",
     "output_type": "stream",
     "text": [
      "D^2: 0.024730781065291363 p: 0.5735940033913054\n"
     ]
    }
   ],
   "source": [
    "# Aplicamos el test\n",
    "D2, p = sp.kstest(tiempos_entre_arribos, 'expon', args=(0, 180), N=tam_muestra)\n",
    "print('D^2:', D2, 'p:', p)\n",
    "\n",
    "# como p = 0.57 es mayor a 0.01 no rechazamos H0 (que dice que ambas distribuciones son idénticas). Es decir,\n",
    "# la muestra dada sigue una distribucion exponencial de media 180"
   ]
  },
  {
   "cell_type": "code",
   "execution_count": 8,
   "metadata": {},
   "outputs": [
    {
     "data": {
      "image/png": "[encoded data removed]",
      "text/plain": [
       "<Figure size 432x288 with 1 Axes>"
      ]
     },
     "metadata": {
      "needs_background": "light"
     },
     "output_type": "display_data"
    },
    {
     "data": {
      "text/plain": [
       "256.518821609046"
      ]
     },
     "execution_count": 8,
     "metadata": {},
     "output_type": "execute_result"
    }
   ],
   "source": [
    "# Propuesta 2: exponencial con media 240\n",
    "muestra_propuesta2 = sp.expon.rvs(0, 240, size=tam_muestra)\n",
    "\n",
    "# chequeo que la districion sea la esperada\n",
    "plt.hist(muestra_propuesta2, 100)\n",
    "plt.show()\n",
    "\n",
    "np.mean(muestra_propuesta2)"
   ]
  },
  {
   "cell_type": "code",
   "execution_count": 9,
   "metadata": {},
   "outputs": [
    {
     "name": "stdout",
     "output_type": "stream",
     "text": [
      "D^2: 0.1157527363264863 p: 3.9547796943643075e-12\n"
     ]
    }
   ],
   "source": [
    "D2, p = sp.kstest(tiempos_entre_arribos, 'expon', args=(0, 240), N=tam_muestra)\n",
    "print('D^2:', D2, 'p:', p)\n",
    "\n",
    "# como p = 3.95e-12 es menor a 0.01 rechazamos H0 (que dice que ambas distribuciones son idénticas). Es decir,\n",
    "# la muestra dada no sigue una distribucion exponencial de media 240"
   ]
  },
  {
   "cell_type": "markdown",
   "metadata": {},
   "source": [
    "## 1.b"
   ]
  },
  {
   "cell_type": "code",
   "execution_count": 10,
   "metadata": {},
   "outputs": [],
   "source": [
    "class Cajero:\n",
    "    def __init__(self):\n",
    "        self.capacidad = 2000\n",
    "        self.compartimiento_entregar = self.capacidad\n",
    "        self.compartimiento_depositar = 0\n",
    "\n",
    "    def depositar(self, cantidad):\n",
    "        if self.compartimiento_entregar + self.compartimiento_depositar + cantidad <= self.capacidad:\n",
    "            self.compartimiento_depositar += cantidad\n",
    "            return True\n",
    "        return False\n",
    "\n",
    "    def retirar(self, cantidad):\n",
    "        if self.compartimiento_entregar - cantidad >= 0:\n",
    "            self.compartimiento_entregar -= cantidad\n",
    "            return True\n",
    "        return False\n",
    "\n",
    "    def get_cantidad_billetes_actual(self):\n",
    "        return self.compartimiento_entregar + self.compartimiento_depositar\n"
   ]
  },
  {
   "cell_type": "code",
   "execution_count": 11,
   "metadata": {},
   "outputs": [],
   "source": [
    "from random import random, uniform\n",
    "\n",
    "\n",
    "cantidad_de_billetes = []\n",
    "t_en_el_sistema = []\n",
    "cantidad_transacciones = 0\n",
    "cantidad_clientes = 0\n",
    "\n",
    "dia = 24*60*60\n",
    "for i in range(1000):\n",
    "    cajero = Cajero()\n",
    "    # t: tiempo acumulado\n",
    "    t = 0\n",
    "    \n",
    "    if i == 700:\n",
    "        cantidad_de_billetes.append(cajero.get_cantidad_billetes_actual())\n",
    "\n",
    "    while t <= dia:\n",
    "        # arribo un cliente: tiempo entre clientes sigue una distribucion exponencial de media 180\n",
    "        t1 = sp.expon.rvs(0, 180)\n",
    "        t += t1\n",
    "        # u: para decidir si el cliente que arribo es del grupo 1 o grupo 2\n",
    "        u = random()\n",
    "        if u <= 0.75: # grupo 1\n",
    "            # el cliente usa el cajero\n",
    "            t2 = sp.expon.rvs(0, 90)\n",
    "            t_en_el_sistema.append(t2)\n",
    "            t += t2\n",
    "            # el cliente retira dinero\n",
    "            cantidad_a_retirar = uniform(3, 50)\n",
    "            pudo_retirar = cajero.retirar(cantidad_a_retirar)\n",
    "            if pudo_retirar:\n",
    "                cantidad_transacciones += 1\n",
    "        else: # grupo 2\n",
    "            # el cliente usa el cajero\n",
    "            t2 = sp.expon.rvs(0, 300)\n",
    "            t_en_el_sistema.append(t2)\n",
    "            t += t2\n",
    "            # el cliente deposita dinero\n",
    "            cantidad_a_depositar = uniform(10, 100)\n",
    "            pudo_depositar = cajero.depositar(cantidad_a_depositar)\n",
    "            if pudo_depositar:\n",
    "                cantidad_transacciones += 1\n",
    "\n",
    "        cantidad_clientes += 1\n",
    "        if i == 700:\n",
    "            cantidad_de_billetes.append(cajero.get_cantidad_billetes_actual())\n"
   ]
  },
  {
   "cell_type": "markdown",
   "metadata": {},
   "source": [
    "## 1.c"
   ]
  },
  {
   "cell_type": "code",
   "execution_count": 12,
   "metadata": {},
   "outputs": [
    {
     "data": {
      "image/png": "[encoded data removed]",
      "text/plain": [
       "<Figure size 432x288 with 1 Axes>"
      ]
     },
     "metadata": {
      "needs_background": "light"
     },
     "output_type": "display_data"
    }
   ],
   "source": [
    "plt.plot(cantidad_de_billetes)\n",
    "plt.show()"
   ]
  },
  {
   "cell_type": "markdown",
   "metadata": {},
   "source": [
    "## 1.d"
   ]
  },
  {
   "cell_type": "code",
   "execution_count": 13,
   "metadata": {
    "scrolled": true
   },
   "outputs": [
    {
     "data": {
      "text/plain": [
       "142.81392358036385"
      ]
     },
     "execution_count": 13,
     "metadata": {},
     "output_type": "execute_result"
    }
   ],
   "source": [
    "np.mean(t_en_el_sistema)"
   ]
  },
  {
   "cell_type": "markdown",
   "metadata": {},
   "source": [
    "## 1.e"
   ]
  },
  {
   "cell_type": "code",
   "execution_count": 14,
   "metadata": {
    "scrolled": true
   },
   "outputs": [
    {
     "data": {
      "text/plain": [
       "42.607529385466535"
      ]
     },
     "execution_count": 14,
     "metadata": {},
     "output_type": "execute_result"
    }
   ],
   "source": [
    "cantidad_transacciones/cantidad_clientes * 100"
   ]
  },
  {
   "cell_type": "code",
   "execution_count": 15,
   "metadata": {},
   "outputs": [],
   "source": [
    "class CajeroConReciclaje:\n",
    "    def __init__(self):\n",
    "        self.capacidad = 2000\n",
    "        self.compartimiento_unico = 0\n",
    "\n",
    "    def depositar(self, cantidad):\n",
    "        if self.compartimiento_unico + cantidad <= self.capacidad:\n",
    "            self.compartimiento_unico += cantidad\n",
    "            return True\n",
    "        return False\n",
    "\n",
    "    def retirar(self, cantidad):\n",
    "        if self.compartimiento_unico - cantidad >= 0:\n",
    "            self.compartimiento_unico -= cantidad\n",
    "            return True\n",
    "        return False\n",
    "\n",
    "    def get_cantidad_billetes_actual(self):\n",
    "        return self.compartimiento_unico\n"
   ]
  },
  {
   "cell_type": "code",
   "execution_count": 16,
   "metadata": {},
   "outputs": [],
   "source": [
    "cantidad_transacciones = 0\n",
    "cantidad_clientes = 0\n",
    "\n",
    "dia = 24*60*60\n",
    "for i in range(1000):\n",
    "    cajero = CajeroConReciclaje()\n",
    "    # t: tiempo acumulado\n",
    "    t = 0\n",
    "\n",
    "    while t <= dia:\n",
    "        # arribo un cliente: tiempo entre clientes sigue una distribucion exponencial de media 180\n",
    "        t1 = sp.expon.rvs(0, 180)\n",
    "        t += t1\n",
    "        # u: para decidir si el cliente que arribo es del grupo 1 o grupo 2\n",
    "        u = random()\n",
    "        if u <= 0.75: # grupo 1\n",
    "            # el cliente usa el cajero\n",
    "            t2 = sp.expon.rvs(0, 90)\n",
    "            t_en_el_sistema.append(t2)\n",
    "            t += t2\n",
    "            # el cliente retira dinero\n",
    "            cantidad_a_retirar = uniform(3, 50)\n",
    "            pudo_retirar = cajero.retirar(cantidad_a_retirar)\n",
    "            if pudo_retirar:\n",
    "                cantidad_transacciones += 1\n",
    "        else: # grupo 2\n",
    "            # el cliente usa el cajero\n",
    "            t2 = sp.expon.rvs(0, 300)\n",
    "            t_en_el_sistema.append(t2)\n",
    "            t += t2\n",
    "            # el cliente deposita dinero\n",
    "            cantidad_a_depositar = uniform(10, 100)\n",
    "            pudo_depositar = cajero.depositar(cantidad_a_depositar)\n",
    "            if pudo_depositar:\n",
    "                cantidad_transacciones += 1\n",
    "\n",
    "        cantidad_clientes += 1\n"
   ]
  },
  {
   "cell_type": "code",
   "execution_count": 17,
   "metadata": {},
   "outputs": [
    {
     "data": {
      "text/plain": [
       "78.49536855983999"
      ]
     },
     "execution_count": 17,
     "metadata": {},
     "output_type": "execute_result"
    }
   ],
   "source": [
    "cantidad_transacciones/cantidad_clientes * 100"
   ]
  },
  {
   "cell_type": "markdown",
   "metadata": {},
   "source": [
    "# Ejercicio 2"
   ]
  },
  {
   "cell_type": "markdown",
   "metadata": {},
   "source": [
    "## 2.a"
   ]
  },
  {
   "cell_type": "code",
   "execution_count": 18,
   "metadata": {},
   "outputs": [],
   "source": [
    "P = np.array([ [39/40, 1/40], [1/30, 29/30] ])"
   ]
  },
  {
   "cell_type": "markdown",
   "metadata": {},
   "source": [
    "## 2.b"
   ]
  },
  {
   "cell_type": "code",
   "execution_count": 40,
   "metadata": {},
   "outputs": [],
   "source": [
    "from random import random\n",
    "\n",
    "cantidad_solicitudes = 0\n",
    "estados = [cantidad_solicitudes]\n",
    "veces_cero_solicitudes = 1\n",
    "\n",
    "N = int(1000/0.01)\n",
    "for i in range(1, N+1):\n",
    "    u = random()\n",
    "    if cantidad_solicitudes == 0:\n",
    "        if u < 1/40: # ingresa una solicitud\n",
    "            cantidad_solicitudes += 1\n",
    "        else:\n",
    "            veces_cero_solicitudes += 1\n",
    "    else:\n",
    "        prob_no_ingresa_solicitud_y_siga_procesando = (39/40)*(29/30) + (1/40)*(1/30)\n",
    "        prob_ingresa_solicitud_y_siga_procesando = (1/40)*(29/30)\n",
    "        prob_no_ingresa_solicitud_y_termina_procesar = (39/40)*(1/30)\n",
    "        if u < prob_no_ingresa_solicitud_y_termina_procesar: # no ingreso solicitud y termina de procesar\n",
    "            cantidad_solicitudes -= 1\n",
    "        elif prob_no_ingresa_solicitud_y_termina_procesar <= u < prob_no_ingresa_solicitud_y_termina_procesar+prob_ingresa_solicitud_y_siga_procesando: # ingresa solicitud y sigue procesando\n",
    "            cantidad_solicitudes += 1\n",
    "        else: # si no ingresa solicitud y sigue procesando o si ingresa solicitud y termino de procesar\n",
    "              # la cantidad de solicitudes se mantiene\n",
    "            pass\n",
    "\n",
    "    estados.append(cantidad_solicitudes)\n"
   ]
  },
  {
   "cell_type": "markdown",
   "metadata": {},
   "source": [
    "## 2.c"
   ]
  },
  {
   "cell_type": "code",
   "execution_count": 41,
   "metadata": {},
   "outputs": [
    {
     "data": {
      "image/png": "[encoded data removed]",
      "text/plain": [
       "<Figure size 432x288 with 1 Axes>"
      ]
     },
     "metadata": {
      "needs_background": "light"
     },
     "output_type": "display_data"
    }
   ],
   "source": [
    "#plt.rcParams[\"figure.figsize\"] = (25,15)\n",
    "\n",
    "plt.plot(estados)\n",
    "plt.show()"
   ]
  },
  {
   "cell_type": "markdown",
   "metadata": {},
   "source": [
    "## 2.d"
   ]
  },
  {
   "cell_type": "code",
   "execution_count": 42,
   "metadata": {},
   "outputs": [
    {
     "data": {
      "image/png": "[encoded data removed]",
      "text/plain": [
       "<Figure size 432x288 with 1 Axes>"
      ]
     },
     "metadata": {
      "needs_background": "light"
     },
     "output_type": "display_data"
    }
   ],
   "source": [
    "plt.xticks(np.arange(0, max(estados), step=1))\n",
    "plt.hist(estados, np.arange(0, max(estados), step=1))\n",
    "plt.show()"
   ]
  },
  {
   "cell_type": "markdown",
   "metadata": {},
   "source": [
    "## 2.e"
   ]
  },
  {
   "cell_type": "code",
   "execution_count": 43,
   "metadata": {
    "scrolled": true
   },
   "outputs": [
    {
     "data": {
      "text/plain": [
       "25.712000000000003"
      ]
     },
     "execution_count": 43,
     "metadata": {},
     "output_type": "execute_result"
    }
   ],
   "source": [
    "veces_cero_solicitudes / N * 100"
   ]
  },
  {
   "cell_type": "markdown",
   "metadata": {},
   "source": [
    "# Ejercicio 3"
   ]
  },
  {
   "cell_type": "code",
   "execution_count": 44,
   "metadata": {},
   "outputs": [],
   "source": [
    "def simular_precio(a, b, c, d, P0):\n",
    "    precios = [P0]\n",
    "\n",
    "    Pt_ant = P0\n",
    "    for i in range(100):\n",
    "        Qt = d * Pt_ant - c\n",
    "        Pt = (a/b) - (1/b)*Qt\n",
    "        \n",
    "        precios.append(Pt)\n",
    "        Pt_ant = Pt\n",
    "    \n",
    "    plt.plot(precios)\n",
    "    plt.show"
   ]
  },
  {
   "cell_type": "code",
   "execution_count": 46,
   "metadata": {},
   "outputs": [
    {
     "data": {
      "image/png": "[encoded data removed]",
      "text/plain": [
       "<Figure size 432x288 with 1 Axes>"
      ]
     },
     "metadata": {
      "needs_background": "light"
     },
     "output_type": "display_data"
    }
   ],
   "source": [
    "# parametros (a)\n",
    "simular_precio(10, 1, 0.4, 0.9, 10)"
   ]
  },
  {
   "cell_type": "code",
   "execution_count": 48,
   "metadata": {},
   "outputs": [
    {
     "data": {
      "image/png": "[encoded data removed]",
      "text/plain": [
       "<Figure size 432x288 with 1 Axes>"
      ]
     },
     "metadata": {
      "needs_background": "light"
     },
     "output_type": "display_data"
    }
   ],
   "source": [
    "# parametros (b)\n",
    "simular_precio(0.9, 0.89, 0.5, 0.9, 1)"
   ]
  }
 ],
 "metadata": {
  "kernelspec": {
   "display_name": "Python 3",
   "language": "python",
   "name": "python3"
  },
  "language_info": {
   "codemirror_mode": {
    "name": "ipython",
    "version": 3
   },
   "file_extension": ".py",
   "mimetype": "text/x-python",
   "name": "python",
   "nbconvert_exporter": "python",
   "pygments_lexer": "ipython3",
   "version": "3.6.8"
  }
 },
 "nbformat": 4,
 "nbformat_minor": 2
}
